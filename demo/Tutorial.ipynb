{
 "cells": [
  {
   "cell_type": "markdown",
   "metadata": {},
   "source": [
    "# Importing Paganini"
   ]
  },
  {
   "cell_type": "code",
   "execution_count": 1,
   "metadata": {
    "collapsed": true
   },
   "outputs": [],
   "source": [
    "import paganini\n",
    "from paganini import *"
   ]
  },
  {
   "cell_type": "markdown",
   "metadata": {},
   "source": [
    "`Paganini` is a package for tuning multiparametric combinatorial systems\n",
    "$$\n",
    "\\begin{align*}\n",
    "T_1(z_1, \\ldots, z_d) &= \\Phi_1(T_1, \\ldots, T_n, z_1, \\ldots, z_d)\\\\\n",
    "T_2(z_1, \\ldots, z_d) &= \\Phi_2(T_1, \\ldots, T_n, z_1, \\ldots, z_d)\\\\\n",
    "& \\cdots \\\\\n",
    "T_n(z_1, \\ldots, z_d) &= \\Phi_n(T_1, \\ldots, T_n, z_1, \\ldots, z_d)\\\\\n",
    "\\end{align*}\n",
    "$$\n",
    "\n",
    "$$\n",
    "    z_1 \\dfrac{\\partial T_1}{\\partial z_1} = \\mathbb E \\pi_1,\n",
    "    \\quad\n",
    "    z_2 \\dfrac{\\partial T_1}{\\partial z_2} = \\mathbb E \\pi_2,\n",
    "    \\quad\n",
    "    \\ldots,\n",
    "    \\quad\n",
    "    z_d \\dfrac{\\partial T_1}{\\partial z_d} = \\mathbb E \\pi_d.\n",
    "$$"
   ]
  },
  {
   "cell_type": "markdown",
   "metadata": {},
   "source": [
    "## First example: Catalan trees $T = z\\dfrac{1}{1 - T}$"
   ]
  },
  {
   "cell_type": "code",
   "execution_count": 5,
   "metadata": {
    "collapsed": true
   },
   "outputs": [],
   "source": [
    "Catalan  = Specification()\n",
    "z, T     = Variable(), Variable()\n",
    "Catalan.add(T, z * Seq(T))"
   ]
  },
  {
   "cell_type": "markdown",
   "metadata": {},
   "source": [
    "Detecting the singular values of `z` and `T`:\n",
    "$$\n",
    "    T^2 - T + z = 0,\n",
    "    \\quad\n",
    "    T = \\dfrac{1 \\pm \\sqrt{1 - 4z}}{2}\n",
    "$$"
   ]
  },
  {
   "cell_type": "code",
   "execution_count": 6,
   "metadata": {},
   "outputs": [
    {
     "data": {
      "text/plain": [
       "0"
      ]
     },
     "execution_count": 6,
     "metadata": {},
     "output_type": "execute_result"
    }
   ],
   "source": [
    "Catalan.run_singular_tuner(z)"
   ]
  },
  {
   "cell_type": "code",
   "execution_count": 7,
   "metadata": {},
   "outputs": [
    {
     "data": {
      "text/plain": [
       "0.250000000000001"
      ]
     },
     "execution_count": 7,
     "metadata": {},
     "output_type": "execute_result"
    }
   ],
   "source": [
    "z.value"
   ]
  },
  {
   "cell_type": "code",
   "execution_count": 8,
   "metadata": {},
   "outputs": [
    {
     "data": {
      "text/plain": [
       "0.500000000000002"
      ]
     },
     "execution_count": 8,
     "metadata": {},
     "output_type": "execute_result"
    }
   ],
   "source": [
    "T.value"
   ]
  },
  {
   "cell_type": "code",
   "execution_count": 9,
   "metadata": {},
   "outputs": [],
   "source": [
    "del(z, T, Catalan)"
   ]
  },
  {
   "cell_type": "markdown",
   "metadata": {},
   "source": [
    "## Second example: multiparametric case"
   ]
  },
  {
   "cell_type": "markdown",
   "metadata": {},
   "source": [
    "$$M = z + uzM + z M^2$$"
   ]
  },
  {
   "cell_type": "code",
   "execution_count": 16,
   "metadata": {},
   "outputs": [
    {
     "data": {
      "text/plain": [
       "0"
      ]
     },
     "execution_count": 16,
     "metadata": {},
     "output_type": "execute_result"
    }
   ],
   "source": [
    "Motzkin = Specification()\n",
    "z, u, M = Variable(1000), Variable(200), Variable()\n",
    "Motzkin.add(M, z + u * z * M + z * M ** 2)\n",
    "Motzkin.run_tuner(M)"
   ]
  },
  {
   "cell_type": "code",
   "execution_count": 17,
   "metadata": {
    "scrolled": true
   },
   "outputs": [
    {
     "name": "stdout",
     "output_type": "stream",
     "text": [
      "0.399999687499878 0.500000390625459 0.998750780274356\n"
     ]
    }
   ],
   "source": [
    "print(z.value, u.value, M.value)"
   ]
  },
  {
   "cell_type": "code",
   "execution_count": 18,
   "metadata": {
    "collapsed": true
   },
   "outputs": [],
   "source": [
    "del(z,u,M, Motzkin)"
   ]
  },
  {
   "cell_type": "markdown",
   "metadata": {},
   "source": [
    "## Third example: MSet trees with degree constraints\n",
    "$$\n",
    "\\newcommand{\\pu}[1]{\\color{blue}{#1}}\n",
    "\\begin{align*}\n",
    "M_1 &= \\pu{u_1}  z   \\operatorname{MSet}(\\pu{u_4} M_2) , \\\\\n",
    "M_2 &= \\pu{u_2}  z^2 \\operatorname{MSet}(M_3) , \\\\\n",
    "M_3 &= z^3  \\operatorname{MSet}(\\pu{u_3} M_2) . \\\\\n",
    "\\end{align*}\n",
    "$$"
   ]
  },
  {
   "cell_type": "code",
   "execution_count": 19,
   "metadata": {
    "collapsed": true
   },
   "outputs": [],
   "source": [
    "spec             = Specification()\n",
    "sizes            = [200, 200, 200, 100]\n",
    "z                = Variable(1000)\n",
    "[u1, u2, u3, u4] = [Variable(size) for size in sizes]\n",
    "[M1, M2, M3]     = [Variable() for i in range(3)]"
   ]
  },
  {
   "cell_type": "code",
   "execution_count": 20,
   "metadata": {
    "collapsed": true
   },
   "outputs": [],
   "source": [
    "spec.add(M1, u1 * z      * MSet(u4 * M2))\n",
    "spec.add(M2, u2 * z ** 2 * MSet(M3))\n",
    "spec.add(M3,      z ** 3 * MSet( u3 * M1))"
   ]
  },
  {
   "cell_type": "code",
   "execution_count": 21,
   "metadata": {},
   "outputs": [
    {
     "name": "stderr",
     "output_type": "stream",
     "text": [
      "Optimal solution is unbounded or empty. Tuning is impossible.\n"
     ]
    },
    {
     "data": {
      "text/plain": [
       "1"
      ]
     },
     "execution_count": 21,
     "metadata": {},
     "output_type": "execute_result"
    }
   ],
   "source": [
    "spec.run_tuner(z)"
   ]
  },
  {
   "cell_type": "code",
   "execution_count": 22,
   "metadata": {
    "collapsed": true
   },
   "outputs": [],
   "source": [
    "z.value"
   ]
  },
  {
   "cell_type": "code",
   "execution_count": 23,
   "metadata": {},
   "outputs": [
    {
     "data": {
      "text/plain": [
       "[None, None, None, None]"
      ]
     },
     "execution_count": 23,
     "metadata": {},
     "output_type": "execute_result"
    }
   ],
   "source": [
    "[u1.value, u2.value, u3.value, u4.value]"
   ]
  },
  {
   "cell_type": "code",
   "execution_count": 24,
   "metadata": {},
   "outputs": [
    {
     "data": {
      "text/plain": [
       "[None, None, None]"
      ]
     },
     "execution_count": 24,
     "metadata": {},
     "output_type": "execute_result"
    }
   ],
   "source": [
    "[M1.value, M2.value, M3.value]"
   ]
  },
  {
   "cell_type": "code",
   "execution_count": 25,
   "metadata": {
    "collapsed": true
   },
   "outputs": [],
   "source": [
    "del(z, u1, u2, u3, u4, M1, M2, M3, spec)"
   ]
  },
  {
   "cell_type": "markdown",
   "metadata": {},
   "source": [
    "## Impossible tuning problem :: Binary trees\n",
    "\n",
    "Binary trees with a given number of leaves\n",
    "$$\n",
    "    T = z  + z u T^2\n",
    "$$"
   ]
  },
  {
   "cell_type": "code",
   "execution_count": 26,
   "metadata": {
    "collapsed": true
   },
   "outputs": [],
   "source": [
    "Binary = Specification()\n",
    "z, T   = [Variable() for i in range(2)]\n",
    "u      = Variable(0.501)\n",
    "Binary.add(T, z + z * u * T ** 2)"
   ]
  },
  {
   "cell_type": "code",
   "execution_count": 27,
   "metadata": {},
   "outputs": [
    {
     "name": "stderr",
     "output_type": "stream",
     "text": [
      "Optimal solution is unbounded or empty. Tuning is impossible.\n"
     ]
    },
    {
     "data": {
      "text/plain": [
       "1"
      ]
     },
     "execution_count": 27,
     "metadata": {},
     "output_type": "execute_result"
    }
   ],
   "source": [
    "Binary.run_singular_tuner(z)"
   ]
  },
  {
   "cell_type": "code",
   "execution_count": 28,
   "metadata": {
    "collapsed": true
   },
   "outputs": [],
   "source": [
    "z.value"
   ]
  },
  {
   "cell_type": "code",
   "execution_count": 29,
   "metadata": {
    "collapsed": true
   },
   "outputs": [],
   "source": [
    "T.value"
   ]
  },
  {
   "cell_type": "markdown",
   "metadata": {},
   "source": [
    "### Impossible tuning problem :: mixture of intervals?"
   ]
  },
  {
   "cell_type": "markdown",
   "metadata": {},
   "source": [
    "$$\n",
    "    F = Seq(Z^3) \\times Seq(U Z^3) + Seq(U^2 Z^3) \\times Seq(U^3 Z^3)\n",
    "$$"
   ]
  },
  {
   "cell_type": "markdown",
   "metadata": {},
   "source": [
    ">**Tip.** The tuning is in ***expectation***"
   ]
  },
  {
   "cell_type": "code",
   "execution_count": 31,
   "metadata": {},
   "outputs": [
    {
     "data": {
      "text/plain": [
       "0"
      ]
     },
     "execution_count": 31,
     "metadata": {},
     "output_type": "execute_result"
    }
   ],
   "source": [
    "Impossible = Specification()\n",
    "params     = Params(Type.RATIONAL)\n",
    "\n",
    "z, u, F    = Variable(3), Variable(2), Variable()\n",
    "Impossible.add(F, Seq(z**3) * Seq(u * z**3) + Seq(u**2 * z**3) * Seq(u**3 * z**3))\n",
    "Impossible.run_tuner(F, params)"
   ]
  },
  {
   "cell_type": "code",
   "execution_count": 32,
   "metadata": {},
   "outputs": [
    {
     "name": "stdout",
     "output_type": "stream",
     "text": [
      "[0.614625020521352, 1.21044468016441]\n"
     ]
    }
   ],
   "source": [
    "print([z.value, u.value])"
   ]
  },
  {
   "cell_type": "code",
   "execution_count": 34,
   "metadata": {},
   "outputs": [
    {
     "name": "stdout",
     "output_type": "stream",
     "text": [
      "[0.921100028826341, 1.03292878328556]\n"
     ]
    }
   ],
   "source": [
    "z.set_expectation(30)\n",
    "u.set_expectation(20)\n",
    "Impossible.run_tuner(F, params)\n",
    "print([z.value, u.value])"
   ]
  },
  {
   "cell_type": "code",
   "execution_count": 123,
   "metadata": {
    "scrolled": true
   },
   "outputs": [
    {
     "data": {
      "text/plain": [
       "0"
      ]
     },
     "execution_count": 123,
     "metadata": {},
     "output_type": "execute_result"
    }
   ],
   "source": [
    "Impossible = Specification()\n",
    "\n",
    "z, u, F = Variable(), Variable(1/6), Variable()\n",
    "Impossible.add(F, Seq(       z**3) * Seq(u    * z**3) +\n",
    "                  Seq(u**2 * z**3) * Seq(u**3 * z**3))\n",
    "Impossible.run_singular_tuner(z)"
   ]
  },
  {
   "cell_type": "code",
   "execution_count": 124,
   "metadata": {},
   "outputs": [
    {
     "name": "stdout",
     "output_type": "stream",
     "text": [
      "[0.999999998575647, 0.999999998419164, 0.999999996994811]\n"
     ]
    }
   ],
   "source": [
    "print([z.value, u.value, z.value * u.value])"
   ]
  },
  {
   "cell_type": "code",
   "execution_count": 125,
   "metadata": {
    "collapsed": true
   },
   "outputs": [],
   "source": [
    "del(z, u, Impossible)"
   ]
  },
  {
   "cell_type": "markdown",
   "metadata": {},
   "source": [
    "## Tutorials and manuals"
   ]
  },
  {
   "cell_type": "code",
   "execution_count": 28,
   "metadata": {
    "collapsed": true
   },
   "outputs": [],
   "source": [
    "import paganini"
   ]
  },
  {
   "cell_type": "code",
   "execution_count": 29,
   "metadata": {},
   "outputs": [
    {
     "name": "stdout",
     "output_type": "stream",
     "text": [
      "Help on package paganini:\n",
      "\n",
      "NAME\n",
      "    paganini\n",
      "\n",
      "DESCRIPTION\n",
      "    Paganini\n",
      "    ========\n",
      "    \n",
      "    Paganini is a lightweight python library for tuning of\n",
      "    multiparametric combinatorial systems.\n",
      "    \n",
      "    All the necessary documentation can be found on-line on\n",
      "    https://paganini.readthedocs.io/\n",
      "    \n",
      "    Use\n",
      "        >>> help(paganini.tutorial)\n",
      "    \n",
      "    to see some examples of code usage.\n",
      "\n",
      "PACKAGE CONTENTS\n",
      "    expressions\n",
      "    specification\n",
      "    tests\n",
      "    tutorial\n",
      "\n",
      "VERSION\n",
      "    1.1.1\n",
      "\n",
      "FILE\n",
      "    /usr/local/lib/python3.6/site-packages/paganini-1.1.3-py3.6.egg/paganini/__init__.py\n",
      "\n",
      "\n"
     ]
    }
   ],
   "source": [
    "help(paganini)"
   ]
  },
  {
   "cell_type": "code",
   "execution_count": 30,
   "metadata": {},
   "outputs": [
    {
     "name": "stdout",
     "output_type": "stream",
     "text": [
      "Help on module paganini.tutorial in paganini:\n",
      "\n",
      "NAME\n",
      "    paganini.tutorial\n",
      "\n",
      "DESCRIPTION\n",
      "    Tutorial\n",
      "    ========\n",
      "    \n",
      "    .. tip::\n",
      "        Interactive environments like ``jupyter notebook`` are extremely helpful in\n",
      "        code testing and experimenting. `Check them out! <https://jupyter.org>`_\n",
      "    \n",
      "    .. note::\n",
      "        Throughout the tutorial, it is assumed that at the beginning of the session,\n",
      "        all the contents of the package `Paganini` have been imported:\n",
      "    \n",
      "            >>> from paganini import *\n",
      "    \n",
      "        Alternatively, in order to avoid polluting the global namespace, a\n",
      "        synonym import can be used. In this case, all the functions should be\n",
      "        referenced as sub-items of this namespace\n",
      "    \n",
      "            >>> import paganini as pg\n",
      "            >>> spec = pg.Specification()\n",
      "    \n",
      "    Introduction\n",
      "    ------------\n",
      "    \n",
      "    Consider the following example. Suppose that we are interested in designing an sampler for plane trees of unbounded degree (i.e. with an arbitrary number of children), specified as\n",
      "    \n",
      "        ``T = Z SEQ(T)``\n",
      "    \n",
      "    where ``SEQ(T)`` stands for a (possibly empty) sequence of trees and ``Z`` marks the size of a node.\n",
      "    In Paganini, we write the following snippet defining the same combinatorial class:\n",
      "    \n",
      "        >>> spec = Specification()\n",
      "        >>> z, T = Variable(), Variable()\n",
      "        >>> spec.add(T, z * Seq(T))\n",
      "    \n",
      "    Now, if we we want to construct a corresponding sampler, say *analytic (or Boltzmann) sampler*, we have to find a specific value of ``Z`` and use it to compute branching probabilities governing the random choices of our sampler (essentially the number of children for each of the constructed nodes). What value of ``Z`` should be choose if we are interested in large, uniform, and unbounded in size trees? With Paganini, this task amounts to invoking\n",
      "    \n",
      "        >>> spec.run_singular_tuner(z)\n",
      "    \n",
      "    ... and that's it! Paganini determines the corresponding value of `z` for us.\n",
      "    Once *tuned*, variables are decorated with appropriate numerical values:\n",
      "    \n",
      "        >>> z.value\n",
      "        0.25\n",
      "        >>> T.value\n",
      "        0.5\n",
      "    \n",
      "    Paganini allows its users to focus on the design of specifications, taking care of the rest.\n",
      "    \n",
      "    Target expectation tuning\n",
      "    -------------------------\n",
      "    \n",
      "    With the help of Paganini, users can demand the computation of tuning variables with specific, finite target expectations. Suppose that we are interested in designing an analytic sampler for Motzkin trees (i.e. plane unary-binary trees) however we would also like to demand that the outcome trees consists of around 1000 nodes, among which around 200 are  unary. To achieve this goal, we construct the following specification:\n",
      "    \n",
      "        >>> from paganini import *\n",
      "        >>> spec = Specification()\n",
      "        >>> z, u, M = Variable(1000), Variable(200), Variable()\n",
      "        >>> spec.add(M, z + u * z * M + z * M ** 2)\n",
      "        >>> spec.run_tuner(M)\n",
      "    \n",
      "    Here ``z`` and ``u`` are two *marking variables* standing for the tree size and the number of unary nodes, respectively. Once we run the tuner, all three variables are decorated with respective numerical values, which the user can then use to compute respective branching probabilities. A sampler designed with such values is *guaranteed* to output Motzkin trees for which the expected size and mean number of unary nodes obey the design specification.\n",
      "    \n",
      "    \n",
      "    Examples\n",
      "    --------\n",
      "    \n",
      "    Paganini is under constant development, supporting a growing class of so-called admissible constructors. Below you can find a handful of examples supported by Paganini. For more specifications, please visit our `tests` folder.\n",
      "    \n",
      "    \n",
      "    .. function:: Polya trees\n",
      "    \n",
      "        The specification is ``T = Z * MSET(T)``\n",
      "    \n",
      "        >>> spec = Specification()\n",
      "        >>> z, T = Variable(), Variable()\n",
      "        >>> spec.add(T, z * MSet(T))\n",
      "        >>> spec.run_singular_tuner(z)\n",
      "        >>> z.value\n",
      "        0.338322112871298\n",
      "        >>> T.value\n",
      "        1.0\n",
      "    \n",
      "    .. function:: Cyclic compositions\n",
      "    \n",
      "        A non-recursive specification ``C = CYC(Z * SEQ(Z))``\n",
      "        with a dominant singularity ``z = 0.5``\n",
      "    \n",
      "        >>> spec = Specification()\n",
      "        >>> z, C = Variable(), Variable()\n",
      "        >>> spec.add(C, Cyc(z * Seq(z)))\n",
      "        >>> spec.run_singular_tuner(z)\n",
      "        >>> z.value\n",
      "        0.499999992983969\n",
      "    \n",
      "    .. function:: Unlabelled functional graphs.\n",
      "    \n",
      "        The specification is decined as a system of equations\n",
      "    \n",
      "        ``F = MSet(K)``\n",
      "    \n",
      "        ``K = CYC(U)``\n",
      "    \n",
      "        ``U = Z * MSet(U)``\n",
      "    \n",
      "        >>> spec = Specification()\n",
      "        >>> z, F = Variable(), Variable()\n",
      "        >>> K, U = Variable(), Variable()\n",
      "    \n",
      "        >>> spec.add(F, MSet(K))\n",
      "        >>> spec.add(K, Cyc(U))\n",
      "        >>> spec.add(U, z * MSet(U))\n",
      "    \n",
      "        >>> spec.run_singular_tuner(z)\n",
      "        >>> z.value\n",
      "        0.3383218568992077\n",
      "\n",
      "FILE\n",
      "    /usr/local/lib/python3.6/site-packages/paganini-1.1.3-py3.6.egg/paganini/tutorial.py\n",
      "\n",
      "\n"
     ]
    }
   ],
   "source": [
    "help(paganini.tutorial)"
   ]
  },
  {
   "cell_type": "code",
   "execution_count": null,
   "metadata": {
    "collapsed": true
   },
   "outputs": [],
   "source": []
  }
 ],
 "metadata": {
  "kernelspec": {
   "display_name": "Python 3",
   "language": "python",
   "name": "python3"
  },
  "language_info": {
   "codemirror_mode": {
    "name": "ipython",
    "version": 3
   },
   "file_extension": ".py",
   "mimetype": "text/x-python",
   "name": "python",
   "nbconvert_exporter": "python",
   "pygments_lexer": "ipython3",
   "version": "3.6.5"
  }
 },
 "nbformat": 4,
 "nbformat_minor": 2
}
