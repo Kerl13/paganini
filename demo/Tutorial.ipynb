{
 "cells": [
  {
   "cell_type": "markdown",
   "metadata": {},
   "source": [
    "# Importing Paganini"
   ]
  },
  {
   "cell_type": "code",
   "execution_count": null,
   "metadata": {
    "collapsed": true
   },
   "outputs": [],
   "source": [
    "import paganini\n",
    "from paganini import *"
   ]
  },
  {
   "cell_type": "markdown",
   "metadata": {},
   "source": [
    "`Paganini` is a package for tuning multiparametric combinatorial systems\n",
    "$$\n",
    "\\begin{align*}\n",
    "T_1(z_1, \\ldots, z_d) &= \\Phi_1(T_1, \\ldots, T_n, z_1, \\ldots, z_d)\\\\\n",
    "T_2(z_1, \\ldots, z_d) &= \\Phi_2(T_1, \\ldots, T_n, z_1, \\ldots, z_d)\\\\\n",
    "& \\cdots \\\\\n",
    "T_n(z_1, \\ldots, z_d) &= \\Phi_n(T_1, \\ldots, T_n, z_1, \\ldots, z_d)\\\\\n",
    "\\end{align*}\n",
    "$$\n",
    "\n",
    "$$\n",
    "    z_1 \\dfrac{\\partial T_1}{\\partial z_1} = \\mathbb E \\pi_1,\n",
    "    \\quad\n",
    "    z_2 \\dfrac{\\partial T_1}{\\partial z_2} = \\mathbb E \\pi_2,\n",
    "    \\quad\n",
    "    \\ldots,\n",
    "    \\quad\n",
    "    z_d \\dfrac{\\partial T_1}{\\partial z_d} = \\mathbb E \\pi_d.\n",
    "$$"
   ]
  },
  {
   "cell_type": "markdown",
   "metadata": {},
   "source": [
    "## First example: Catalan trees $T = z\\dfrac{1}{1 - T}$"
   ]
  },
  {
   "cell_type": "code",
   "execution_count": null,
   "metadata": {
    "collapsed": true
   },
   "outputs": [],
   "source": [
    "Catalan  = Specification()\n",
    "z, T     = Variable(), Variable()\n",
    "Catalan.add(T, z * Seq(T))"
   ]
  },
  {
   "cell_type": "markdown",
   "metadata": {},
   "source": [
    "Detecting the singular values of `z` and `T`:\n",
    "$$\n",
    "    T^2 - T + z = 0,\n",
    "    \\quad\n",
    "    T = \\dfrac{1 \\pm \\sqrt{1 - 4z}}{2}\n",
    "$$"
   ]
  },
  {
   "cell_type": "code",
   "execution_count": null,
   "metadata": {},
   "outputs": [],
   "source": [
    "Catalan.run_singular_tuner(z)"
   ]
  },
  {
   "cell_type": "code",
   "execution_count": null,
   "metadata": {},
   "outputs": [],
   "source": [
    "z.value"
   ]
  },
  {
   "cell_type": "code",
   "execution_count": null,
   "metadata": {},
   "outputs": [],
   "source": [
    "T.value"
   ]
  },
  {
   "cell_type": "code",
   "execution_count": null,
   "metadata": {},
   "outputs": [],
   "source": [
    "del(z, T, Catalan)"
   ]
  },
  {
   "cell_type": "markdown",
   "metadata": {},
   "source": [
    "## Second example: multiparametric case"
   ]
  },
  {
   "cell_type": "markdown",
   "metadata": {},
   "source": [
    "$$M = z + uzM + z M^2$$"
   ]
  },
  {
   "cell_type": "code",
   "execution_count": null,
   "metadata": {},
   "outputs": [],
   "source": [
    "Motzkin = Specification()\n",
    "z, u, M = Variable(1000), Variable(200), Variable()\n",
    "Motzkin.add(M, z + u * z * M + z * M ** 2)\n",
    "Motzkin.run_tuner(M)"
   ]
  },
  {
   "cell_type": "code",
   "execution_count": null,
   "metadata": {
    "scrolled": true
   },
   "outputs": [],
   "source": [
    "print(z.value, u.value, M.value)"
   ]
  },
  {
   "cell_type": "code",
   "execution_count": null,
   "metadata": {
    "collapsed": true
   },
   "outputs": [],
   "source": [
    "del(z,u,M, Motzkin)"
   ]
  },
  {
   "cell_type": "markdown",
   "metadata": {},
   "source": [
    "## Third example: MSet trees with degree constraints\n",
    "$$\n",
    "\\newcommand{\\pu}[1]{\\color{blue}{#1}}\n",
    "\\begin{align*}\n",
    "M_1 &= \\pu{u_1}  z   \\operatorname{MSet}(\\pu{u_4} M_2) , \\\\\n",
    "M_2 &= \\pu{u_2}  z^2 \\operatorname{MSet}(M_3) , \\\\\n",
    "M_3 &= z^3  \\operatorname{MSet}(\\pu{u_3} M_2) . \\\\\n",
    "\\end{align*}\n",
    "$$"
   ]
  },
  {
   "cell_type": "code",
   "execution_count": null,
   "metadata": {
    "collapsed": true
   },
   "outputs": [],
   "source": [
    "spec             = Specification()\n",
    "sizes            = [200, 200, 200, 100]\n",
    "z                = Variable(1000)\n",
    "[u1, u2, u3, u4] = [Variable(size) for size in sizes]\n",
    "[M1, M2, M3]     = [Variable() for i in range(3)]"
   ]
  },
  {
   "cell_type": "code",
   "execution_count": null,
   "metadata": {
    "collapsed": true
   },
   "outputs": [],
   "source": [
    "spec.add(M1, u1 * z      * MSet(u4 * M2))\n",
    "spec.add(M2, u2 * z ** 2 * MSet(M3))\n",
    "spec.add(M3,      z ** 3 * MSet( u3 * M1))"
   ]
  },
  {
   "cell_type": "code",
   "execution_count": null,
   "metadata": {},
   "outputs": [],
   "source": [
    "spec.run_tuner(z)"
   ]
  },
  {
   "cell_type": "code",
   "execution_count": null,
   "metadata": {},
   "outputs": [],
   "source": [
    "z.value"
   ]
  },
  {
   "cell_type": "code",
   "execution_count": null,
   "metadata": {},
   "outputs": [],
   "source": [
    "[u1.value, u2.value, u3.value, u4.value]"
   ]
  },
  {
   "cell_type": "code",
   "execution_count": null,
   "metadata": {},
   "outputs": [],
   "source": [
    "[M1.value, M2.value, M3.value]"
   ]
  },
  {
   "cell_type": "code",
   "execution_count": null,
   "metadata": {
    "collapsed": true
   },
   "outputs": [],
   "source": [
    "del(z, u1, u2, u3, u4, M1, M2, M3, spec)"
   ]
  },
  {
   "cell_type": "markdown",
   "metadata": {},
   "source": [
    "## Impossible tuning problem :: Binary trees\n",
    "\n",
    "Binary trees with a given number of leaves\n",
    "$$\n",
    "    T = z  + z u T^2\n",
    "$$"
   ]
  },
  {
   "cell_type": "code",
   "execution_count": null,
   "metadata": {
    "collapsed": true
   },
   "outputs": [],
   "source": [
    "Binary = Specification()\n",
    "z, T   = [Variable() for i in range(2)]\n",
    "u      = Variable(0.501)\n",
    "Binary.add(T, z + z * u * T ** 2)"
   ]
  },
  {
   "cell_type": "code",
   "execution_count": null,
   "metadata": {},
   "outputs": [],
   "source": [
    "Binary.run_singular_tuner(z)"
   ]
  },
  {
   "cell_type": "code",
   "execution_count": null,
   "metadata": {
    "collapsed": true
   },
   "outputs": [],
   "source": [
    "z.value"
   ]
  },
  {
   "cell_type": "code",
   "execution_count": null,
   "metadata": {
    "collapsed": true
   },
   "outputs": [],
   "source": [
    "T.value"
   ]
  },
  {
   "cell_type": "markdown",
   "metadata": {},
   "source": [
    "### Impossible tuning problem :: mixture of intervals?"
   ]
  },
  {
   "cell_type": "markdown",
   "metadata": {},
   "source": [
    "$$\n",
    "    F = Seq(Z^3) \\times Seq(U Z^3) + Seq(U^2 Z^3) \\times Seq(U^3 Z^3)\n",
    "$$"
   ]
  },
  {
   "cell_type": "markdown",
   "metadata": {},
   "source": [
    ">**Tip.** The tuning is in ***expectation***"
   ]
  },
  {
   "cell_type": "code",
   "execution_count": null,
   "metadata": {},
   "outputs": [],
   "source": [
    "Impossible = Specification()\n",
    "params     = Params(Type.RATIONAL)\n",
    "\n",
    "z, u, F    = Variable(3), Variable(2), Variable()\n",
    "Impossible.add(F, Seq(z**3) * Seq(u * z**3) + Seq(u**2 * z**3) * Seq(u**3 * z**3))\n",
    "Impossible.run_tuner(F, params)"
   ]
  },
  {
   "cell_type": "code",
   "execution_count": null,
   "metadata": {},
   "outputs": [],
   "source": [
    "print([z.value, u.value])"
   ]
  },
  {
   "cell_type": "code",
   "execution_count": null,
   "metadata": {},
   "outputs": [],
   "source": [
    "z.set_expectation(30)\n",
    "u.set_expectation(20)\n",
    "Impossible.run_tuner(F, params)\n",
    "print([z.value, u.value])"
   ]
  },
  {
   "cell_type": "code",
   "execution_count": null,
   "metadata": {
    "scrolled": true
   },
   "outputs": [],
   "source": [
    "Impossible = Specification()\n",
    "\n",
    "z, u, F = Variable(), Variable(1/6), Variable()\n",
    "Impossible.add(F, Seq(       z**3) * Seq(u    * z**3) +\n",
    "                  Seq(u**2 * z**3) * Seq(u**3 * z**3))\n",
    "Impossible.run_singular_tuner(z)"
   ]
  },
  {
   "cell_type": "markdown",
   "metadata": {},
   "source": [
    "## Tutorials and manuals"
   ]
  },
  {
   "cell_type": "code",
   "execution_count": null,
   "metadata": {
    "collapsed": true
   },
   "outputs": [],
   "source": [
    "import paganini"
   ]
  },
  {
   "cell_type": "code",
   "execution_count": null,
   "metadata": {},
   "outputs": [],
   "source": [
    "help(paganini)"
   ]
  },
  {
   "cell_type": "code",
   "execution_count": null,
   "metadata": {},
   "outputs": [],
   "source": [
    "help(paganini.tutorial)"
   ]
  }
 ],
 "metadata": {
  "kernelspec": {
   "display_name": "Python 3",
   "language": "python",
   "name": "python3"
  },
  "language_info": {
   "codemirror_mode": {
    "name": "ipython",
    "version": 3
   },
   "file_extension": ".py",
   "mimetype": "text/x-python",
   "name": "python",
   "nbconvert_exporter": "python",
   "pygments_lexer": "ipython3",
   "version": "3.6.5"
  }
 },
 "nbformat": 4,
 "nbformat_minor": 2
}
